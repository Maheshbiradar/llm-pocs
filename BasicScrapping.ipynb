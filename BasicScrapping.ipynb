{
 "cells": [
  {
   "cell_type": "markdown",
   "id": "d15d8294-3328-4e07-ad16-8a03e9bbfdb9",
   "metadata": {
    "jp-MarkdownHeadingCollapsed": true
   },
   "source": []
  },
  {
   "cell_type": "code",
   "execution_count": 21,
   "id": "4e2a9393-7767-488e-a8bf-27c12dca35bd",
   "metadata": {},
   "outputs": [],
   "source": [
    "# imports\n",
    "\n",
    "import os\n",
    "import requests\n",
    "\n",
    "from dotenv import load_dotenv\n",
    "from bs4 import BeautifulSoup\n",
    "from IPython.display import Markdown, display\n",
    "from openai import OpenAI\n",
    "\n",
    "# If you get an error running this cell, then please head over to the troubleshooting notebook!"
   ]
  },
  {
   "cell_type": "markdown",
   "id": "b3657ffc-2598-424a-b8bc-ee705e0e9a43",
   "metadata": {},
   "source": [
    "# Connecting to OpenAI\n",
    "\n",
    "The next cell is where we load in the environment variables in your `.env` file and connect to OpenAI.\n",
    "\n"
   ]
  },
  {
   "cell_type": "code",
   "execution_count": 22,
   "id": "7b87cadb-d513-4303-baee-a37b6f938e4d",
   "metadata": {},
   "outputs": [
    {
     "name": "stdout",
     "output_type": "stream",
     "text": [
      "API key found and looks good so far!\n"
     ]
    }
   ],
   "source": [
    "# Load environment variables in a file called .env\n",
    "\n",
    "load_dotenv(override=True)\n",
    "api_key = os.getenv('OPENAI_API_KEY')\n",
    "\n",
    "# Check the key\n",
    "\n",
    "if not api_key:\n",
    "    print(\"No API key was found - please head over to the troubleshooting notebook in this folder to identify & fix!\")\n",
    "elif not api_key.startswith(\"sk-proj-\"):\n",
    "    print(\"An API key was found, but it doesn't start sk-proj-; please check you're using the right key - see troubleshooting notebook\")\n",
    "elif api_key.strip() != api_key:\n",
    "    print(\"An API key was found, but it looks like it might have space or tab characters at the start or end - please remove them - see troubleshooting notebook\")\n",
    "else:\n",
    "    print(\"API key found and looks good so far!\")\n"
   ]
  },
  {
   "cell_type": "code",
   "execution_count": 23,
   "id": "019974d9-f3ad-4a8a-b5f9-0a3719aea2d3",
   "metadata": {},
   "outputs": [],
   "source": [
    "openai = OpenAI()\n",
    "\n",
    "\n",
    "# If this doesn't work, try Kernel menu >> Restart Kernel and Clear Outputs Of All Cells, then run the cells from the top of this notebook down.\n",
    "# If it STILL doesn't work (horrors!) then please see the Troubleshooting notebook in this folder for full instructions"
   ]
  },
  {
   "cell_type": "markdown",
   "id": "442fc84b-0815-4f40-99ab-d9a5da6bda91",
   "metadata": {},
   "source": [
    "# Let's make a quick call to a Frontier model to get started, as a preview!"
   ]
  },
  {
   "cell_type": "code",
   "execution_count": 24,
   "id": "a58394bf-1e45-46af-9bfd-01e24da6f49a",
   "metadata": {},
   "outputs": [
    {
     "name": "stdout",
     "output_type": "stream",
     "text": [
      "Hello! It's great to hear from you! How can I assist you today?\n"
     ]
    }
   ],
   "source": [
    "# To give you a preview -- calling OpenAI with these messages is this easy. Any problems, head over to the Troubleshooting notebook.\n",
    "\n",
    "message = \"Hello, GPT! This is my first ever message to you! Hi!\"\n",
    "response = openai.chat.completions.create(model=\"gpt-4o-mini\", messages=[{\"role\":\"user\", \"content\":message}])\n",
    "print(response.choices[0].message.content)"
   ]
  },
  {
   "cell_type": "markdown",
   "id": "2aa190e5-cb31-456a-96cc-db109919cd78",
   "metadata": {},
   "source": [
    "## OK onwards with our first project"
   ]
  },
  {
   "cell_type": "code",
   "execution_count": 25,
   "id": "c5e793b2-6775-426a-a139-4848291d0463",
   "metadata": {},
   "outputs": [],
   "source": [
    "# A class to represent a Webpage\n",
    "# If you're not familiar with Classes, check out the \"Intermediate Python\" notebook\n",
    "\n",
    "# Some websites need you to use proper headers when fetching them:\n",
    "headers = {\n",
    " \"User-Agent\": \"Mozilla/5.0 (Windows NT 10.0; Win64; x64) AppleWebKit/537.36 (KHTML, like Gecko) Chrome/117.0.0.0 Safari/537.36\"\n",
    "}\n",
    "\n",
    "class Website:\n",
    "\n",
    "    def __init__(self, url):\n",
    "        \"\"\"\n",
    "        Create this Website object from the given url using the BeautifulSoup library\n",
    "        \"\"\"\n",
    "        self.url = url\n",
    "        response = requests.get(url, headers=headers)\n",
    "        soup = BeautifulSoup(response.content, 'html.parser')\n",
    "        self.title = soup.title.string if soup.title else \"No title found\"\n",
    "        self.text = soup.body.get_text(separator=\"\\n\", strip=True)"
   ]
  },
  {
   "cell_type": "code",
   "execution_count": 8,
   "id": "2ef960cf-6dc2-4cda-afb3-b38be12f4c97",
   "metadata": {},
   "outputs": [
    {
     "name": "stdout",
     "output_type": "stream",
     "text": [
      "NTT DATA Unveils Global Insights on GenAI Adoption in Banking: Divergent Strategies for Boosting Productivity vs. Cutting Costs | NTT DATA Group\n",
      "Industries\n",
      "Industries\n",
      "Automotive\n",
      "Energy & Utilities\n",
      "Financial Services\n",
      "Healthcare\n",
      "Higher Education & Research\n",
      "Insurance\n",
      "Life Sciences & Pharma\n",
      "Manufacturing\n",
      "Public Sector\n",
      "Retail & CPG\n",
      "Telecom, Media & Technology\n",
      "Travel, Transportation & Logistics\n",
      "Services\n",
      "Services\n",
      "Application Services\n",
      "Business Process Services\n",
      "Cloud\n",
      "Consulting\n",
      "CX and Digital Products\n",
      "Cybersecurity\n",
      "Data & Artificial Intelligence\n",
      "Digital Workplace\n",
      "Edge\n",
      "Global Data Centers\n",
      "Network Services\n",
      "Sustainability Services\n",
      "Tech Solutions & Integration\n",
      "Insights\n",
      "By type\n",
      "Blog: NTT DATA Focus\n",
      "Clients Cases\n",
      "Events\n",
      "By topic\n",
      "The World Economic Forum, Davos 2025\n",
      "Technology\n",
      "Generative AI\n",
      "ADM Technology Focus Areas\n",
      "Unlock the Full Potential of Generative AI with NTT DATA\n",
      "Read more\n",
      "About Us\n",
      "About Us\n",
      "Who we are\n",
      "NTT DATA Group Corporation Profile\n",
      "Message from CEO\n",
      "Our Way\n",
      "NTT DATA History\n",
      "NTT DATA Group Corporation Leaders\n",
      "About NTT DATA, Inc.\n",
      "Our partners\n",
      "View all partners\n",
      "Microsoft\n",
      "SAP\n",
      "Salesforce\n",
      "AWS\n",
      "Cisco\n",
      "Our commitments\n",
      "Sustainability\n",
      "Diversity, Equity and Inclusion\n",
      "Our sponsorship\n",
      "The Open\n",
      "AIG Women’s Open\n",
      "NTT INDYCAR SERIES\n",
      "Careers\n",
      "Careers\n",
      "Search Jobs\n",
      "Why NTT DATA\n",
      "Meet NTT DATA People\n",
      "Find People Initiatives\n",
      "Investors\n",
      "Investors\n",
      "IR News\n",
      "IR Calendar\n",
      "Management\n",
      "Individual Investor\n",
      "Library\n",
      "Financial Charts\n",
      "Stock Information\n",
      "News\n",
      "Contact Us\n",
      "Global - English\n",
      "Share\n",
      "Facebook\n",
      "LinkedIn\n",
      "X\n",
      "Home\n",
      "Global News\n",
      "NTT DATA Unveils Global Insights on GenAI Adoption in Banking: Divergent Strategies for Boosting Productivity vs. Cutting Costs\n",
      "Research from NTT DATA finds that as GenAI adoption rises, new pressures on return of investment are at the forefront of the challenges facing the banking industry.\n",
      "February 10, 2025\n",
      "NTT DATA Group Corporation\n",
      "Tokyo - February 10, 2025 -\n",
      "NTT DATA\n",
      ", a global digital business and IT services leader, has today launched a new global research report uncovering the use of generative AI (GenAI) in the banking sector worldwide. The report, titled \"Intelligent banking in the Age of AI\", has found that despite the growing adoption of GenAI technology in the banking industry, banks and financial institutions are split when it comes to outcome-based strategies - only half of banks (50%) see it as a tool for improving productivity and efficiency. Similarly, half (49%) believe it can be used for reducing operational IT spend.\n",
      "Transforming Banking Through GenAI\n",
      "GenAI is more disruptive than any previous advance in banking technology. It is less a question of if, but when banks embrace this technology, due to its transformative ability to embed intelligence at every layer of the banking ecosystem, from core banking to front-end systems. GenAI already making waves in the banking industry, with 6 in 10 organizations (58%) already fully embracing its transformative potential, an increase from 2023, when only 45% of organizations had fully embraced GenAI, according to NTT DATA's research.\n",
      "\"Generative AI represents a pivotal moment for the banking industry,\" said Robb Rasmussen, Head of Global Marketing & Communications, NTT DATA. \"While the potential benefits are enormous, the challenges of implementing GenAI are complex and varied, requiring careful navigation and a structured approach. Given the anticipated high spending on GenAI, achieving a return on investment is crucial. Many banks will be expecting GenAI to drive long-term savings by automating IT tasks, improving operational efficiency, and creating competitive advantages, but it's important to note that achieving meaningful ROI requires a clear strategy, tailored implementation, and robust governance at the same time.\"\n",
      "Financial constraints increasing pressure on ROI\n",
      "ROI has become a top priority for GenAI implementations, yet banking organizations are split in their opinions of which strategies are most important to them. Banks have long struggled with boosting productivity, and GenAI is poised to present a solution to this problem, but only half of banking leaders (50%) see it as a solution to current productivity woes. Cost optimization is another area where banks are split, with just under half (49%) are looking to reduce IT budgets accordingly.\n",
      "This disparity is highlighted on a global scale too - for example, almost 6 in 10 US banks (59%) are keen to reduce IT budgets and almost half (47%) want to cut operations budgets, while only 4 in 10 banks in Europe (43%) have IT budgets front of mind and just over a third (36%) are concerned with operations costs. Meanwhile productivity is the most important factor for European banks (46%), yet the US and APAC are placing even more emphasis on productivity themselves in comparison.\n",
      "Key performance indicators (KPIs) that financial institutions are using or planning to use to evaluate the success of its Generative AI initiatives:\n",
      "Europe\n",
      "US\n",
      "APAC\n",
      "LATAM\n",
      "Japan\n",
      "Improved productivity/efficiency\n",
      "46%\n",
      "52%\n",
      "58%\n",
      "43%\n",
      "35%\n",
      "Competitive advantage\n",
      "42%\n",
      "48%\n",
      "57%\n",
      "48%\n",
      "40%\n",
      "Cutting costs/Reducing IT budget\n",
      "43%\n",
      "59%\n",
      "51%\n",
      "44%\n",
      "48%\n",
      "Cutting costs/ Reducing operations budget\n",
      "36%\n",
      "47%\n",
      "49%\n",
      "36%\n",
      "28%\n",
      "Accelerate speed to innovate\n",
      "37%\n",
      "34%\n",
      "50%\n",
      "41%\n",
      "35%\n",
      "Increased net promoter score\n",
      "29%\n",
      "25%\n",
      "31%\n",
      "26%\n",
      "40%\n",
      "Differing strategies across differing regions\n",
      "Strategies for realizing these benefits of GenAI differ vastly among organizations too. While around half of organizations are focusing on collaboration between humans and AI (51%) or a hybrid approach with existing systems (47%), over a quarter (28%) of banks are hoping to fully automate tasks and remove the need for manual input entirely. Fully automating tasks is an area which divides opinions worldwide as well, with a quarter of banks in the UK (25%) and Europe (24%) looking to fully automate the process, while almost a third of banks (32%) in the Americas and 35% of Japanese banks are looking to do the same.\n",
      "Robb Rasmussen, Head of Global Marketing & Communications, NTT DATA added: \"It is clear that the ability to balance innovation with fiscal responsibility will define success for banks. However, many banks are lacking in maturity when it comes to this technology and are unsure where to start. Partnering with systems integrators can be a good starting point, allowing them to access the latest knowledge while ensuring compliance with industry regulations. By working with specialized providers, banks can ensure that GenAI implementations can deliver the desired ROI, while maintaining robust data protection measures and meeting both internal security standards and regulatory requirements.\"\n",
      "NTT DATA's research dives into specific areas of the banking industry, including Payments and Wealth Management, as well as Fraud Prevention. To read the full report, please go to\n",
      "\"Intelligent banking in the Age of AI\"\n",
      "ABOUT the Research\n",
      "NTT DATA's survey was carried out on 810 banking leaders, from all global banking markets, and provides a 360-degree perspective on the sector's journey towards innovation and GenAI adoption. This survey was led by NTT DATA Group's Global Industry Office, part of the Global Marketing & Communications Headquarters.\n",
      "Demographics of Respondents:\n",
      "Global Insights: Leaders from a broad geographic spectrum across Europe, United States, Latin America, APAC\n",
      "Breakdown by region/country: Europe (300): UK (100), Germany (100), Spain (60), Italy (40); US (150); APAC (240): Thailand (40), Vietnam (40), Australia (40), India (40), Singapore (40), China (40); LATAM (80): Brazil (40), Mexico (40); Japan (40)\n",
      "Institutional Scope: A cross-section from multinational banks to local banking institutions.\n",
      "Expertise Range: Perspectives across IT, Operations, Innovation, and Strategy.\n",
      "About NTT DATA\n",
      "NTT DATA is a $30+ billion trusted global innovator of business and technology services. We serve 75% of the Fortune Global 100 and are committed to helping clients innovate, optimize and transform for long-term success. As a Global Top Employer, we have diverse experts in more than 50 countries and a robust partner ecosystem of established and start-up companies. Our services include business and technology consulting, data and artificial intelligence, industry solutions, as well as the development, implementation and management of applications, infrastructure and connectivity. We are also one of the leading providers of digital and AI infrastructure in the world. NTT DATA is part of NTT Group, which invests over $3.6 billion each year in R&D to help organizations and society move confidently and sustainably into the digital future. Visit us at\n",
      "nttdata.com\n",
      "Contact\n",
      "Global Marketing & Communications Headquarters\n",
      "NTT DATA Group Corporation\n",
      "global-marketing@kits.nttdata.co.jp\n",
      "News Releases.\n",
      "The services, prices of products and services, specifications, telephone numbers, etc. for inquiries and other information included in news releases are the data available on the day of the release. This information may be changed at any time without notice. In certain circumstances, due to various risks or unexpected occurrences, actual results may also be different from the plans or projections in news releases.\n",
      "Home\n",
      "Global News\n",
      "NTT DATA Unveils Global Insights on GenAI Adoption in Banking: Divergent Strategies for Boosting Productivity vs. Cutting Costs\n",
      "Global\n",
      "Select a Country\n",
      "Industries\n",
      "Services\n",
      "Insights\n",
      "About Us\n",
      "Careers\n",
      "Investors\n",
      "News\n",
      "Sitemap\n",
      "Contact Us\n",
      "Term Of Use\n",
      "Privacy Statement\n",
      "Privacy Statement for GDPR\n",
      "Accessibility\n",
      "Cookie Policy\n",
      "Cookie Preferences\n",
      "Social Media Policy\n",
      "Copyright\n",
      "Copyright © NTT DATA Group Corporation\n",
      "TOP\n",
      "This product includes GeoLite2 data created by MaxMind, available from https://www.maxmind.com.\n"
     ]
    }
   ],
   "source": [
    "# Let's try one out. Change the website and add print statements to follow along.\n",
    "\n",
    "ed = Website(\"https://www.nttdata.com/global/en/news/press-release/2025/february/021001\")\n",
    "\n",
    "print(ed.title)\n",
    "print(ed.text)"
   ]
  },
  {
   "cell_type": "markdown",
   "id": "6a478a0c-2c53-48ff-869c-4d08199931e1",
   "metadata": {},
   "source": [
    "## Types of prompts\n",
    "\n",
    "You may know this already - but if not, you will get very familiar with it!\n",
    "\n",
    "Models like GPT4o have been trained to receive instructions in a particular way.\n",
    "\n",
    "They expect to receive:\n",
    "\n",
    "**A system prompt** that tells them what task they are performing and what tone they should use\n",
    "\n",
    "**A user prompt** -- the conversation starter that they should reply to"
   ]
  },
  {
   "cell_type": "code",
   "execution_count": 26,
   "id": "abdb8417-c5dc-44bc-9bee-2e059d162699",
   "metadata": {},
   "outputs": [],
   "source": [
    "# Define our system prompt - you can experiment with this later, changing the last sentence to 'Respond in markdown in Spanish.\"\n",
    "\n",
    "system_prompt = \"You are an assistant that analyzes the contents of a website \\\n",
    "and provides a short summary, ignoring text that might be navigation related. \\\n",
    "Respond in markdown.\""
   ]
  },
  {
   "cell_type": "code",
   "execution_count": 27,
   "id": "f0275b1b-7cfe-4f9d-abfa-7650d378da0c",
   "metadata": {},
   "outputs": [],
   "source": [
    "# A function that writes a User Prompt that asks for summaries of websites:\n",
    "\n",
    "def user_prompt_for(website):\n",
    "    user_prompt = f\"You are looking at a website titled {website.title}\"\n",
    "    user_prompt += \"\\nThe contents of this website is as follows; \\\n",
    "please provide a short summary of this website in markdown. \\\n",
    "If it includes news or announcements, then summarize these too.\\n\\n\"\n",
    "    user_prompt += website.text\n",
    "    return user_prompt"
   ]
  },
  {
   "cell_type": "code",
   "execution_count": 11,
   "id": "26448ec4-5c00-4204-baec-7df91d11ff2e",
   "metadata": {},
   "outputs": [
    {
     "name": "stdout",
     "output_type": "stream",
     "text": [
      "You are looking at a website titled NTT DATA Unveils Global Insights on GenAI Adoption in Banking: Divergent Strategies for Boosting Productivity vs. Cutting Costs | NTT DATA Group\n",
      "The contents of this website is as follows; please provide a short summary of this website in markdown. If it includes news or announcements, then summarize these too.\n",
      "\n",
      "Industries\n",
      "Industries\n",
      "Automotive\n",
      "Energy & Utilities\n",
      "Financial Services\n",
      "Healthcare\n",
      "Higher Education & Research\n",
      "Insurance\n",
      "Life Sciences & Pharma\n",
      "Manufacturing\n",
      "Public Sector\n",
      "Retail & CPG\n",
      "Telecom, Media & Technology\n",
      "Travel, Transportation & Logistics\n",
      "Services\n",
      "Services\n",
      "Application Services\n",
      "Business Process Services\n",
      "Cloud\n",
      "Consulting\n",
      "CX and Digital Products\n",
      "Cybersecurity\n",
      "Data & Artificial Intelligence\n",
      "Digital Workplace\n",
      "Edge\n",
      "Global Data Centers\n",
      "Network Services\n",
      "Sustainability Services\n",
      "Tech Solutions & Integration\n",
      "Insights\n",
      "By type\n",
      "Blog: NTT DATA Focus\n",
      "Clients Cases\n",
      "Events\n",
      "By topic\n",
      "The World Economic Forum, Davos 2025\n",
      "Technology\n",
      "Generative AI\n",
      "ADM Technology Focus Areas\n",
      "Unlock the Full Potential of Generative AI with NTT DATA\n",
      "Read more\n",
      "About Us\n",
      "About Us\n",
      "Who we are\n",
      "NTT DATA Group Corporation Profile\n",
      "Message from CEO\n",
      "Our Way\n",
      "NTT DATA History\n",
      "NTT DATA Group Corporation Leaders\n",
      "About NTT DATA, Inc.\n",
      "Our partners\n",
      "View all partners\n",
      "Microsoft\n",
      "SAP\n",
      "Salesforce\n",
      "AWS\n",
      "Cisco\n",
      "Our commitments\n",
      "Sustainability\n",
      "Diversity, Equity and Inclusion\n",
      "Our sponsorship\n",
      "The Open\n",
      "AIG Women’s Open\n",
      "NTT INDYCAR SERIES\n",
      "Careers\n",
      "Careers\n",
      "Search Jobs\n",
      "Why NTT DATA\n",
      "Meet NTT DATA People\n",
      "Find People Initiatives\n",
      "Investors\n",
      "Investors\n",
      "IR News\n",
      "IR Calendar\n",
      "Management\n",
      "Individual Investor\n",
      "Library\n",
      "Financial Charts\n",
      "Stock Information\n",
      "News\n",
      "Contact Us\n",
      "Global - English\n",
      "Share\n",
      "Facebook\n",
      "LinkedIn\n",
      "X\n",
      "Home\n",
      "Global News\n",
      "NTT DATA Unveils Global Insights on GenAI Adoption in Banking: Divergent Strategies for Boosting Productivity vs. Cutting Costs\n",
      "Research from NTT DATA finds that as GenAI adoption rises, new pressures on return of investment are at the forefront of the challenges facing the banking industry.\n",
      "February 10, 2025\n",
      "NTT DATA Group Corporation\n",
      "Tokyo - February 10, 2025 -\n",
      "NTT DATA\n",
      ", a global digital business and IT services leader, has today launched a new global research report uncovering the use of generative AI (GenAI) in the banking sector worldwide. The report, titled \"Intelligent banking in the Age of AI\", has found that despite the growing adoption of GenAI technology in the banking industry, banks and financial institutions are split when it comes to outcome-based strategies - only half of banks (50%) see it as a tool for improving productivity and efficiency. Similarly, half (49%) believe it can be used for reducing operational IT spend.\n",
      "Transforming Banking Through GenAI\n",
      "GenAI is more disruptive than any previous advance in banking technology. It is less a question of if, but when banks embrace this technology, due to its transformative ability to embed intelligence at every layer of the banking ecosystem, from core banking to front-end systems. GenAI already making waves in the banking industry, with 6 in 10 organizations (58%) already fully embracing its transformative potential, an increase from 2023, when only 45% of organizations had fully embraced GenAI, according to NTT DATA's research.\n",
      "\"Generative AI represents a pivotal moment for the banking industry,\" said Robb Rasmussen, Head of Global Marketing & Communications, NTT DATA. \"While the potential benefits are enormous, the challenges of implementing GenAI are complex and varied, requiring careful navigation and a structured approach. Given the anticipated high spending on GenAI, achieving a return on investment is crucial. Many banks will be expecting GenAI to drive long-term savings by automating IT tasks, improving operational efficiency, and creating competitive advantages, but it's important to note that achieving meaningful ROI requires a clear strategy, tailored implementation, and robust governance at the same time.\"\n",
      "Financial constraints increasing pressure on ROI\n",
      "ROI has become a top priority for GenAI implementations, yet banking organizations are split in their opinions of which strategies are most important to them. Banks have long struggled with boosting productivity, and GenAI is poised to present a solution to this problem, but only half of banking leaders (50%) see it as a solution to current productivity woes. Cost optimization is another area where banks are split, with just under half (49%) are looking to reduce IT budgets accordingly.\n",
      "This disparity is highlighted on a global scale too - for example, almost 6 in 10 US banks (59%) are keen to reduce IT budgets and almost half (47%) want to cut operations budgets, while only 4 in 10 banks in Europe (43%) have IT budgets front of mind and just over a third (36%) are concerned with operations costs. Meanwhile productivity is the most important factor for European banks (46%), yet the US and APAC are placing even more emphasis on productivity themselves in comparison.\n",
      "Key performance indicators (KPIs) that financial institutions are using or planning to use to evaluate the success of its Generative AI initiatives:\n",
      "Europe\n",
      "US\n",
      "APAC\n",
      "LATAM\n",
      "Japan\n",
      "Improved productivity/efficiency\n",
      "46%\n",
      "52%\n",
      "58%\n",
      "43%\n",
      "35%\n",
      "Competitive advantage\n",
      "42%\n",
      "48%\n",
      "57%\n",
      "48%\n",
      "40%\n",
      "Cutting costs/Reducing IT budget\n",
      "43%\n",
      "59%\n",
      "51%\n",
      "44%\n",
      "48%\n",
      "Cutting costs/ Reducing operations budget\n",
      "36%\n",
      "47%\n",
      "49%\n",
      "36%\n",
      "28%\n",
      "Accelerate speed to innovate\n",
      "37%\n",
      "34%\n",
      "50%\n",
      "41%\n",
      "35%\n",
      "Increased net promoter score\n",
      "29%\n",
      "25%\n",
      "31%\n",
      "26%\n",
      "40%\n",
      "Differing strategies across differing regions\n",
      "Strategies for realizing these benefits of GenAI differ vastly among organizations too. While around half of organizations are focusing on collaboration between humans and AI (51%) or a hybrid approach with existing systems (47%), over a quarter (28%) of banks are hoping to fully automate tasks and remove the need for manual input entirely. Fully automating tasks is an area which divides opinions worldwide as well, with a quarter of banks in the UK (25%) and Europe (24%) looking to fully automate the process, while almost a third of banks (32%) in the Americas and 35% of Japanese banks are looking to do the same.\n",
      "Robb Rasmussen, Head of Global Marketing & Communications, NTT DATA added: \"It is clear that the ability to balance innovation with fiscal responsibility will define success for banks. However, many banks are lacking in maturity when it comes to this technology and are unsure where to start. Partnering with systems integrators can be a good starting point, allowing them to access the latest knowledge while ensuring compliance with industry regulations. By working with specialized providers, banks can ensure that GenAI implementations can deliver the desired ROI, while maintaining robust data protection measures and meeting both internal security standards and regulatory requirements.\"\n",
      "NTT DATA's research dives into specific areas of the banking industry, including Payments and Wealth Management, as well as Fraud Prevention. To read the full report, please go to\n",
      "\"Intelligent banking in the Age of AI\"\n",
      "ABOUT the Research\n",
      "NTT DATA's survey was carried out on 810 banking leaders, from all global banking markets, and provides a 360-degree perspective on the sector's journey towards innovation and GenAI adoption. This survey was led by NTT DATA Group's Global Industry Office, part of the Global Marketing & Communications Headquarters.\n",
      "Demographics of Respondents:\n",
      "Global Insights: Leaders from a broad geographic spectrum across Europe, United States, Latin America, APAC\n",
      "Breakdown by region/country: Europe (300): UK (100), Germany (100), Spain (60), Italy (40); US (150); APAC (240): Thailand (40), Vietnam (40), Australia (40), India (40), Singapore (40), China (40); LATAM (80): Brazil (40), Mexico (40); Japan (40)\n",
      "Institutional Scope: A cross-section from multinational banks to local banking institutions.\n",
      "Expertise Range: Perspectives across IT, Operations, Innovation, and Strategy.\n",
      "About NTT DATA\n",
      "NTT DATA is a $30+ billion trusted global innovator of business and technology services. We serve 75% of the Fortune Global 100 and are committed to helping clients innovate, optimize and transform for long-term success. As a Global Top Employer, we have diverse experts in more than 50 countries and a robust partner ecosystem of established and start-up companies. Our services include business and technology consulting, data and artificial intelligence, industry solutions, as well as the development, implementation and management of applications, infrastructure and connectivity. We are also one of the leading providers of digital and AI infrastructure in the world. NTT DATA is part of NTT Group, which invests over $3.6 billion each year in R&D to help organizations and society move confidently and sustainably into the digital future. Visit us at\n",
      "nttdata.com\n",
      "Contact\n",
      "Global Marketing & Communications Headquarters\n",
      "NTT DATA Group Corporation\n",
      "global-marketing@kits.nttdata.co.jp\n",
      "News Releases.\n",
      "The services, prices of products and services, specifications, telephone numbers, etc. for inquiries and other information included in news releases are the data available on the day of the release. This information may be changed at any time without notice. In certain circumstances, due to various risks or unexpected occurrences, actual results may also be different from the plans or projections in news releases.\n",
      "Home\n",
      "Global News\n",
      "NTT DATA Unveils Global Insights on GenAI Adoption in Banking: Divergent Strategies for Boosting Productivity vs. Cutting Costs\n",
      "Global\n",
      "Select a Country\n",
      "Industries\n",
      "Services\n",
      "Insights\n",
      "About Us\n",
      "Careers\n",
      "Investors\n",
      "News\n",
      "Sitemap\n",
      "Contact Us\n",
      "Term Of Use\n",
      "Privacy Statement\n",
      "Privacy Statement for GDPR\n",
      "Accessibility\n",
      "Cookie Policy\n",
      "Cookie Preferences\n",
      "Social Media Policy\n",
      "Copyright\n",
      "Copyright © NTT DATA Group Corporation\n",
      "TOP\n",
      "This product includes GeoLite2 data created by MaxMind, available from https://www.maxmind.com.\n"
     ]
    }
   ],
   "source": [
    "print(user_prompt_for(ed))"
   ]
  },
  {
   "cell_type": "markdown",
   "id": "ea211b5f-28e1-4a86-8e52-c0b7677cadcc",
   "metadata": {},
   "source": [
    "## Messages\n",
    "\n",
    "The API from OpenAI expects to receive messages in a particular structure.\n",
    "Many of the other APIs share this structure:\n",
    "\n",
    "```\n",
    "[\n",
    "    {\"role\": \"system\", \"content\": \"system message goes here\"},\n",
    "    {\"role\": \"user\", \"content\": \"user message goes here\"}\n",
    "]\n",
    "\n",
    "To give you a preview, the next 2 cells make a rather simple call - we won't stretch the might GPT (yet!)"
   ]
  },
  {
   "cell_type": "code",
   "execution_count": 28,
   "id": "f25dcd35-0cd0-4235-9f64-ac37ed9eaaa5",
   "metadata": {},
   "outputs": [],
   "source": [
    "messages = [\n",
    "    {\"role\": \"system\", \"content\": \"You are a snarky assistant\"},\n",
    "    {\"role\": \"user\", \"content\": \"What is 2 + 2?\"}\n",
    "]"
   ]
  },
  {
   "cell_type": "code",
   "execution_count": 29,
   "id": "21ed95c5-7001-47de-a36d-1d6673b403ce",
   "metadata": {},
   "outputs": [
    {
     "name": "stdout",
     "output_type": "stream",
     "text": [
      "Oh, you’re starting with the classics, huh? Well, the answer is 4. Not exactly rocket science, but at least it wasn’t “green” or something.\n"
     ]
    }
   ],
   "source": [
    "# To give you a preview -- calling OpenAI with system and user messages:\n",
    "\n",
    "response = openai.chat.completions.create(model=\"gpt-4o-mini\", messages=messages)\n",
    "print(response.choices[0].message.content)"
   ]
  },
  {
   "cell_type": "markdown",
   "id": "d06e8d78-ce4c-4b05-aa8e-17050c82bb47",
   "metadata": {},
   "source": [
    "## And now let's build useful messages for GPT-4o-mini, using a function"
   ]
  },
  {
   "cell_type": "code",
   "execution_count": 30,
   "id": "0134dfa4-8299-48b5-b444-f2a8c3403c88",
   "metadata": {},
   "outputs": [],
   "source": [
    "# See how this function creates exactly the format above\n",
    "\n",
    "def messages_for(website):\n",
    "    return [\n",
    "        {\"role\": \"system\", \"content\": system_prompt},\n",
    "        {\"role\": \"user\", \"content\": user_prompt_for(website)}\n",
    "    ]"
   ]
  },
  {
   "cell_type": "code",
   "execution_count": 31,
   "id": "36478464-39ee-485c-9f3f-6a4e458dbc9c",
   "metadata": {},
   "outputs": [
    {
     "data": {
      "text/plain": [
       "[{'role': 'system',\n",
       "  'content': 'You are an assistant that analyzes the contents of a website and provides a short summary, ignoring text that might be navigation related. Respond in markdown.'},\n",
       " {'role': 'user',\n",
       "  'content': 'You are looking at a website titled NTT DATA Unveils Global Insights on GenAI Adoption in Banking: Divergent Strategies for Boosting Productivity vs. Cutting Costs | NTT DATA Group\\nThe contents of this website is as follows; please provide a short summary of this website in markdown. If it includes news or announcements, then summarize these too.\\n\\nIndustries\\nIndustries\\nAutomotive\\nEnergy & Utilities\\nFinancial Services\\nHealthcare\\nHigher Education & Research\\nInsurance\\nLife Sciences & Pharma\\nManufacturing\\nPublic Sector\\nRetail & CPG\\nTelecom, Media & Technology\\nTravel, Transportation & Logistics\\nServices\\nServices\\nApplication Services\\nBusiness Process Services\\nCloud\\nConsulting\\nCX and Digital Products\\nCybersecurity\\nData & Artificial Intelligence\\nDigital Workplace\\nEdge\\nGlobal Data Centers\\nNetwork Services\\nSustainability Services\\nTech Solutions & Integration\\nInsights\\nBy type\\nBlog: NTT DATA Focus\\nClients Cases\\nEvents\\nBy topic\\nThe World Economic Forum, Davos 2025\\nTechnology\\nGenerative AI\\nADM Technology Focus Areas\\nUnlock the Full Potential of Generative AI with NTT DATA\\nRead more\\nAbout Us\\nAbout Us\\nWho we are\\nNTT DATA Group Corporation Profile\\nMessage from CEO\\nOur Way\\nNTT DATA History\\nNTT DATA Group Corporation Leaders\\nAbout NTT DATA, Inc.\\nOur partners\\nView all partners\\nMicrosoft\\nSAP\\nSalesforce\\nAWS\\nCisco\\nOur commitments\\nSustainability\\nDiversity, Equity and Inclusion\\nOur sponsorship\\nThe Open\\nAIG Women’s Open\\nNTT INDYCAR SERIES\\nCareers\\nCareers\\nSearch Jobs\\nWhy NTT DATA\\nMeet NTT DATA People\\nFind People Initiatives\\nInvestors\\nInvestors\\nIR News\\nIR Calendar\\nManagement\\nIndividual Investor\\nLibrary\\nFinancial Charts\\nStock Information\\nNews\\nContact Us\\nGlobal - English\\nShare\\nFacebook\\nLinkedIn\\nX\\nHome\\nGlobal News\\nNTT DATA Unveils Global Insights on GenAI Adoption in Banking: Divergent Strategies for Boosting Productivity vs. Cutting Costs\\nResearch from NTT DATA finds that as GenAI adoption rises, new pressures on return of investment are at the forefront of the challenges facing the banking industry.\\nFebruary 10, 2025\\nNTT DATA Group Corporation\\nTokyo - February 10, 2025 -\\nNTT DATA\\n, a global digital business and IT services leader, has today launched a new global research report uncovering the use of generative AI (GenAI) in the banking sector worldwide. The report, titled \"Intelligent banking in the Age of AI\", has found that despite the growing adoption of GenAI technology in the banking industry, banks and financial institutions are split when it comes to outcome-based strategies - only half of banks (50%) see it as a tool for improving productivity and efficiency. Similarly, half (49%) believe it can be used for reducing operational IT spend.\\nTransforming Banking Through GenAI\\nGenAI is more disruptive than any previous advance in banking technology. It is less a question of if, but when banks embrace this technology, due to its transformative ability to embed intelligence at every layer of the banking ecosystem, from core banking to front-end systems. GenAI already making waves in the banking industry, with 6 in 10 organizations (58%) already fully embracing its transformative potential, an increase from 2023, when only 45% of organizations had fully embraced GenAI, according to NTT DATA\\'s research.\\n\"Generative AI represents a pivotal moment for the banking industry,\" said Robb Rasmussen, Head of Global Marketing & Communications, NTT DATA. \"While the potential benefits are enormous, the challenges of implementing GenAI are complex and varied, requiring careful navigation and a structured approach. Given the anticipated high spending on GenAI, achieving a return on investment is crucial. Many banks will be expecting GenAI to drive long-term savings by automating IT tasks, improving operational efficiency, and creating competitive advantages, but it\\'s important to note that achieving meaningful ROI requires a clear strategy, tailored implementation, and robust governance at the same time.\"\\nFinancial constraints increasing pressure on ROI\\nROI has become a top priority for GenAI implementations, yet banking organizations are split in their opinions of which strategies are most important to them. Banks have long struggled with boosting productivity, and GenAI is poised to present a solution to this problem, but only half of banking leaders (50%) see it as a solution to current productivity woes. Cost optimization is another area where banks are split, with just under half (49%) are looking to reduce IT budgets accordingly.\\nThis disparity is highlighted on a global scale too - for example, almost 6 in 10 US banks (59%) are keen to reduce IT budgets and almost half (47%) want to cut operations budgets, while only 4 in 10 banks in Europe (43%) have IT budgets front of mind and just over a third (36%) are concerned with operations costs. Meanwhile productivity is the most important factor for European banks (46%), yet the US and APAC are placing even more emphasis on productivity themselves in comparison.\\nKey performance indicators (KPIs) that financial institutions are using or planning to use to evaluate the success of its Generative AI initiatives:\\nEurope\\nUS\\nAPAC\\nLATAM\\nJapan\\nImproved productivity/efficiency\\n46%\\n52%\\n58%\\n43%\\n35%\\nCompetitive advantage\\n42%\\n48%\\n57%\\n48%\\n40%\\nCutting costs/Reducing IT budget\\n43%\\n59%\\n51%\\n44%\\n48%\\nCutting costs/ Reducing operations budget\\n36%\\n47%\\n49%\\n36%\\n28%\\nAccelerate speed to innovate\\n37%\\n34%\\n50%\\n41%\\n35%\\nIncreased net promoter score\\n29%\\n25%\\n31%\\n26%\\n40%\\nDiffering strategies across differing regions\\nStrategies for realizing these benefits of GenAI differ vastly among organizations too. While around half of organizations are focusing on collaboration between humans and AI (51%) or a hybrid approach with existing systems (47%), over a quarter (28%) of banks are hoping to fully automate tasks and remove the need for manual input entirely. Fully automating tasks is an area which divides opinions worldwide as well, with a quarter of banks in the UK (25%) and Europe (24%) looking to fully automate the process, while almost a third of banks (32%) in the Americas and 35% of Japanese banks are looking to do the same.\\nRobb Rasmussen, Head of Global Marketing & Communications, NTT DATA added: \"It is clear that the ability to balance innovation with fiscal responsibility will define success for banks. However, many banks are lacking in maturity when it comes to this technology and are unsure where to start. Partnering with systems integrators can be a good starting point, allowing them to access the latest knowledge while ensuring compliance with industry regulations. By working with specialized providers, banks can ensure that GenAI implementations can deliver the desired ROI, while maintaining robust data protection measures and meeting both internal security standards and regulatory requirements.\"\\nNTT DATA\\'s research dives into specific areas of the banking industry, including Payments and Wealth Management, as well as Fraud Prevention. To read the full report, please go to\\n\"Intelligent banking in the Age of AI\"\\nABOUT the Research\\nNTT DATA\\'s survey was carried out on 810 banking leaders, from all global banking markets, and provides a 360-degree perspective on the sector\\'s journey towards innovation and GenAI adoption. This survey was led by NTT DATA Group\\'s Global Industry Office, part of the Global Marketing & Communications Headquarters.\\nDemographics of Respondents:\\nGlobal Insights: Leaders from a broad geographic spectrum across Europe, United States, Latin America, APAC\\nBreakdown by region/country: Europe (300): UK (100), Germany (100), Spain (60), Italy (40); US (150); APAC (240): Thailand (40), Vietnam (40), Australia (40), India (40), Singapore (40), China (40); LATAM (80): Brazil (40), Mexico (40); Japan (40)\\nInstitutional Scope: A cross-section from multinational banks to local banking institutions.\\nExpertise Range: Perspectives across IT, Operations, Innovation, and Strategy.\\nAbout NTT DATA\\nNTT DATA is a $30+ billion trusted global innovator of business and technology services. We serve 75% of the Fortune Global 100 and are committed to helping clients innovate, optimize and transform for long-term success. As a Global Top Employer, we have diverse experts in more than 50 countries and a robust partner ecosystem of established and start-up companies. Our services include business and technology consulting, data and artificial intelligence, industry solutions, as well as the development, implementation and management of applications, infrastructure and connectivity. We are also one of the leading providers of digital and AI infrastructure in the world. NTT DATA is part of NTT Group, which invests over $3.6 billion each year in R&D to help organizations and society move confidently and sustainably into the digital future. Visit us at\\nnttdata.com\\nContact\\nGlobal Marketing & Communications Headquarters\\nNTT DATA Group Corporation\\nglobal-marketing@kits.nttdata.co.jp\\nNews Releases.\\nThe services, prices of products and services, specifications, telephone numbers, etc. for inquiries and other information included in news releases are the data available on the day of the release. This information may be changed at any time without notice. In certain circumstances, due to various risks or unexpected occurrences, actual results may also be different from the plans or projections in news releases.\\nHome\\nGlobal News\\nNTT DATA Unveils Global Insights on GenAI Adoption in Banking: Divergent Strategies for Boosting Productivity vs. Cutting Costs\\nGlobal\\nSelect a Country\\nIndustries\\nServices\\nInsights\\nAbout Us\\nCareers\\nInvestors\\nNews\\nSitemap\\nContact Us\\nTerm Of Use\\nPrivacy Statement\\nPrivacy Statement for GDPR\\nAccessibility\\nCookie Policy\\nCookie Preferences\\nSocial Media Policy\\nCopyright\\nCopyright © NTT DATA Group Corporation\\nTOP\\nThis product includes GeoLite2 data created by MaxMind, available from https://www.maxmind.com.'}]"
      ]
     },
     "execution_count": 31,
     "metadata": {},
     "output_type": "execute_result"
    }
   ],
   "source": [
    "# Try this out, and then try for a few more websites\n",
    "\n",
    "messages_for(ed)"
   ]
  },
  {
   "cell_type": "markdown",
   "id": "16f49d46-bf55-4c3e-928f-68fc0bf715b0",
   "metadata": {},
   "source": [
    "## Time to bring it together - the API for OpenAI is very simple!"
   ]
  },
  {
   "cell_type": "code",
   "execution_count": 32,
   "id": "905b9919-aba7-45b5-ae65-81b3d1d78e34",
   "metadata": {},
   "outputs": [],
   "source": [
    "# And now: call the OpenAI API. You will get very familiar with this!\n",
    "\n",
    "def summarize(url):\n",
    "    website = Website(url)\n",
    "    response = openai.chat.completions.create(\n",
    "        model = \"gpt-4o-mini\",\n",
    "        messages = messages_for(website)\n",
    "    )\n",
    "    return response.choices[0].message.content"
   ]
  },
  {
   "cell_type": "code",
   "execution_count": 33,
   "id": "05e38d41-dfa4-4b20-9c96-c46ea75d9fb5",
   "metadata": {},
   "outputs": [
    {
     "data": {
      "text/plain": [
       "'# NTT DATA Insights on GenAI Adoption in Banking\\n\\nNTT DATA has released a research report titled **\"Intelligent Banking in the Age of AI,\"** which examines the adoption of generative AI (GenAI) in the banking sector globally. The study reveals a divide in strategies among banking institutions, with many seeing GenAI as both a tool for enhancing productivity and a means to cut costs. \\n\\n## Key Findings:\\n- **Adoption Trends**: As of early 2025, 58% of banking organizations are fully embracing GenAI, a notable increase from 45% in 2023.\\n- **Divergent Strategies**: Only 50% of banks view GenAI as a productivity enhancer, while 49% see it as a way to reduce operational IT expenses.\\n- **Regional Variances**: The emphasis on cost-cutting and productivity varies significantly by region. For example:\\n  - **US banks** are more focused on reducing IT spend (59%) compared to their European counterparts (43%).\\n  - **European banks** prioritize productivity (46%) over cost reductions more than banks in the US and APAC. \\n\\n## Implementation Challenges:\\nAchieving a return on investment (ROI) is critical, as many banks expect GenAI to facilitate long-term savings through automation and operational efficiency. However, a lack of maturity in utilizing this technology poses challenges, necessitating tailored strategies and partnerships with systems integrators to navigate compliance and regulatory issues.\\n\\n## Recommendations for Banks:\\n- Focus on balancing innovation with fiscal responsibility.\\n- Consider strategic partnerships to access the latest knowledge and ensure robust data protection.\\n\\nOverall, the research emphasizes that while the potential of GenAI is vast, successful implementation requires a structured approach alongside a clear understanding of the associated challenges and expectations. \\n\\nFor more detailed insights, the full report can be accessed [here](#).'"
      ]
     },
     "execution_count": 33,
     "metadata": {},
     "output_type": "execute_result"
    }
   ],
   "source": [
    "summarize(\"https://www.nttdata.com/global/en/news/press-release/2025/february/021001\")\n"
   ]
  },
  {
   "cell_type": "code",
   "execution_count": 34,
   "id": "3d926d59-450e-4609-92ba-2d6f244f1342",
   "metadata": {},
   "outputs": [],
   "source": [
    "# A function to display this nicely in the Jupyter output, using markdown\n",
    "\n",
    "def display_summary(url):\n",
    "    \n",
    "    summary = summarize(url)\n",
    "    display(Markdown(summary))"
   ]
  },
  {
   "cell_type": "code",
   "execution_count": 35,
   "id": "3018853a-445f-41ff-9560-d925d1774b2f",
   "metadata": {},
   "outputs": [
    {
     "data": {
      "text/markdown": [
       "# Summary of NTT DATA's Insights on GenAI Adoption in Banking\n",
       "\n",
       "**Date of Release:** February 10, 2025  \n",
       "**Source:** NTT DATA Group\n",
       "\n",
       "## Key Findings:\n",
       "\n",
       "- **GenAI Adoption in Banking:** NTT DATA has released a report titled *Intelligent Banking in the Age of AI*, highlighting a split in banking strategies regarding the adoption of Generative AI (GenAI). While many banks recognize its potential, opinions vary on whether GenAI should focus on boosting productivity or cutting costs.\n",
       "  \n",
       "- **Adoption Statistics:** The report notes that 58% of banking organizations have fully embraced GenAI, a notable increase from 45% in 2023. However, only 50% of banks view GenAI primarily as a solution for productivity issues, and 49% see it as a means to reduce operational IT spending.\n",
       "\n",
       "- **Diverging Strategies:** The approaches to implementing GenAI differ across regions:\n",
       "  - **US:** 59% of banks prioritize reducing IT budgets, while 47% aim to cut operations budgets.\n",
       "  - **Europe:** 46% focus on improving productivity, with less emphasis on IT budget cuts compared to the US.\n",
       "  - **APAC:** Productivity is also a major concern, with 58% prioritizing efficiency.\n",
       "\n",
       "- **Challenges and ROI:** Achieving a return on investment (ROI) from GenAI is becoming a significant challenge. Many banks are unsure how to start implementing these technologies effectively, leading to recommendations for partnerships with systems integrators to navigate this complexity.\n",
       "\n",
       "- **Focus Areas:** The research explores various segments within the banking sector, including Payments, Wealth Management, and Fraud Prevention.\n",
       "  \n",
       "## About the Research:\n",
       "The survey involved 810 banking leaders from around the world, providing insights into the trends and challenges of GenAI adoption across different markets.\n",
       "\n",
       "## Conclusion:\n",
       "NTT DATA emphasizes the transformational potential of GenAI but warns that banks must develop clear strategies and governance frameworks to ensure successful implementation and ROI.\n",
       "\n",
       "For the full report, visit [Intelligent Banking in the Age of AI](#)."
      ],
      "text/plain": [
       "<IPython.core.display.Markdown object>"
      ]
     },
     "metadata": {},
     "output_type": "display_data"
    }
   ],
   "source": [
    "display_summary(\"https://www.nttdata.com/global/en/news/press-release/2025/february/021001\")\n"
   ]
  },
  {
   "cell_type": "markdown",
   "id": "b3bcf6f4-adce-45e9-97ad-d9a5d7a3a624",
   "metadata": {},
   "source": [
    "# Let's try more websites\n",
    "\n",
    "Note that this will only work on websites that can be scraped using this simplistic approach.\n",
    "\n",
    "Websites that are rendered with Javascript, like React apps, won't show up. See the community-contributions folder for a Selenium implementation that gets around this. You'll need to read up on installing Selenium (ask ChatGPT!)\n",
    "\n",
    "Also Websites protected with CloudFront (and similar) may give 403 errors - many thanks Andy J for pointing this out.\n",
    "\n",
    "But many websites will work just fine!"
   ]
  },
  {
   "cell_type": "code",
   "execution_count": 36,
   "id": "45d83403-a24c-44b5-84ac-961449b4008f",
   "metadata": {},
   "outputs": [
    {
     "data": {
      "text/markdown": [
       "# CNN Overview\n",
       "\n",
       "CNN is a comprehensive news outlet providing breaking news, analysis, and a wide variety of video content covering multiple topics including U.S. News, World Events, Politics, Business, Health, Entertainment, Style, Travel, Sports, Science, Climate, and Weather.\n",
       "\n",
       "## Key Highlights\n",
       "- **Current Events**: The site features live updates on significant current events, such as the Ukraine-Russia War and the Israel-Hamas conflict.\n",
       "- **Political Coverage**: Recent political developments include a federal judge allowing Trump's 'buyout' plan for federal employees, ongoing Senate discussions about RFK Jr.'s confirmation, and reactions to Trump's proposals on various policies.\n",
       "- **Legal News**: Noteworthy legal stories include the confirmation of R. Kelly's convictions and the challenges faced by two transgender girls against Trump's executive order barring them from girls' sports.\n",
       "- **Entertainment and Culture**: Coverage on various entertainment topics including industry reactions to AI-generated content, Super Bowl highlights, and celebrity news like Scarlett Johansson's activism regarding AI deepfakes.\n",
       "\n",
       "## Other Offerings\n",
       "- **Interactive Content**: The platform provides various podcasts featuring discussions on social issues, political themes, and personal stories.\n",
       "- **Lifestyle Sections**: Features articles on Health & Wellness, travel experiences, and consumer goods, as well as expert advice on various life topics.\n",
       "- **Sports Updates**: Covers major events and sports news including the NFL, NBA, and cultural discussions surrounding sports personalities.\n",
       "\n",
       "CNN maintains a dynamic presentation of news and information, aiming to keep its audience informed about crucial issues in a rapidly changing world."
      ],
      "text/plain": [
       "<IPython.core.display.Markdown object>"
      ]
     },
     "metadata": {},
     "output_type": "display_data"
    }
   ],
   "source": [
    "display_summary(\"https://cnn.com\")"
   ]
  },
  {
   "cell_type": "code",
   "execution_count": 37,
   "id": "75e9fd40-b354-4341-991e-863ef2e59db7",
   "metadata": {},
   "outputs": [
    {
     "data": {
      "text/markdown": [
       "# Summary of Anthropic Website\n",
       "\n",
       "Anthropic is an AI safety and research company based in San Francisco, dedicated to developing reliable and beneficial AI systems with a focus on safety. The website highlights their flagship AI model, **Claude 3.5 Sonnet**, which is presented as their most intelligent model to date.\n",
       "\n",
       "## Key Highlights\n",
       "- **Claude 3.5 Sonnet**: The latest AI model available for interaction and development.\n",
       "- **API Access**: Anthropic provides tools for building AI-powered applications and custom experiences using Claude.\n",
       "- **Research and Safety**: The company emphasizes responsible AI development, with ongoing research in AI safety and alignment.\n",
       "- **Company Values**: Anthropic's interdisciplinary team combines expertise in machine learning, physics, policy, and product design to advance AI safely.\n",
       "\n",
       "## Announcements\n",
       "- A recent statement from **Dario Amodei** regarding the **Paris AI Action Summit** was made, indicating the company's engagement with global AI safety discussions.\n",
       "- Publication of **Core Views on AI Safety** on March 8, 2023, outlining their perspectives on when, why, what, and how to ensure AI safety.\n",
       "\n",
       "For more details, the website offers information about their products, research initiatives, career opportunities, and company policies."
      ],
      "text/plain": [
       "<IPython.core.display.Markdown object>"
      ]
     },
     "metadata": {},
     "output_type": "display_data"
    }
   ],
   "source": [
    "display_summary(\"https://anthropic.com\")"
   ]
  }
 ],
 "metadata": {
  "kernelspec": {
   "display_name": "Python 3 (ipykernel)",
   "language": "python",
   "name": "python3"
  },
  "language_info": {
   "codemirror_mode": {
    "name": "ipython",
    "version": 3
   },
   "file_extension": ".py",
   "mimetype": "text/x-python",
   "name": "python",
   "nbconvert_exporter": "python",
   "pygments_lexer": "ipython3",
   "version": "3.11.11"
  }
 },
 "nbformat": 4,
 "nbformat_minor": 5
}
