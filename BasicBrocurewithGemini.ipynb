{
 "cells": [
  {
   "cell_type": "markdown",
   "id": "06cf3063-9f3e-4551-a0d5-f08d9cabb927",
   "metadata": {},
   "source": [
    "Connect with the APIs for Anthropic and Google, as well as OpenAI."
   ]
  },
  {
   "cell_type": "markdown",
   "id": "2b268b6e-0ba4-461e-af86-74a41f4d681f",
   "metadata": {},
   "source": []
  },
  {
   "cell_type": "markdown",
   "id": "85cfe275-4705-4d30-abea-643fbddf1db0",
   "metadata": {},
   "source": [
    "ANTHROPIC_API_KEY=xxxx"
   ]
  },
  {
   "cell_type": "code",
   "execution_count": 4,
   "id": "de23bb9e-37c5-4377-9a82-d7b6c648eeb6",
   "metadata": {},
   "outputs": [],
   "source": [
    "# imports\n",
    "\n",
    "import os\n",
    "import requests\n",
    "from dotenv import load_dotenv\n",
    "from bs4 import BeautifulSoup\n",
    "import json\n",
    "from typing import List\n",
    "import google.generativeai\n",
    "from IPython.display import Markdown, display, update_display"
   ]
  },
  {
   "cell_type": "code",
   "execution_count": null,
   "id": "f0a8ab2b-6134-4104-a1bc-c3cd7ea4cd36",
   "metadata": {},
   "outputs": [],
   "source": []
  },
  {
   "cell_type": "code",
   "execution_count": 5,
   "id": "1179b4c5-cd1f-4131-a876-4c9f3f38d2ba",
   "metadata": {},
   "outputs": [
    {
     "name": "stdout",
     "output_type": "stream",
     "text": [
      "Google API Key exists and begins AIzaSyB\n"
     ]
    }
   ],
   "source": [
    "# Load environment variables in a file called .env\n",
    "# Print the key prefixes to help with any debugging\n",
    "\n",
    "load_dotenv(override=True)\n",
    "google_api_key = os.getenv('GOOGLE_API_KEY')\n",
    "    \n",
    "if google_api_key:\n",
    "    print(f\"Google API Key exists and begins {google_api_key[:7]}\")\n",
    "else:\n",
    "    print(\"Google API Key not set\")"
   ]
  },
  {
   "cell_type": "code",
   "execution_count": 6,
   "id": "797fe7b0-ad43-42d2-acf0-e4f309b112f0",
   "metadata": {},
   "outputs": [],
   "source": [
    "# This is the set up code for Gemini\n",
    "# Having problems with Google Gemini setup? Then just ignore this cell; when we use Gemini, I'll give you an alternative that bypasses this library altogether\n",
    "\n",
    "google.generativeai.configure()"
   ]
  },
  {
   "cell_type": "code",
   "execution_count": 7,
   "id": "378a0296-59a2-45c6-82eb-941344d3eeff",
   "metadata": {},
   "outputs": [],
   "source": [
    "system_message = \"You are an assistant that is great at telling jokes\"\n",
    "user_prompt = \"Tell a light-hearted joke for an audience of Data Scientists\""
   ]
  },
  {
   "cell_type": "code",
   "execution_count": 8,
   "id": "dd45055c-f4cb-4e34-b98d-201941c0a938",
   "metadata": {},
   "outputs": [
    {
     "name": "stdout",
     "output_type": "stream",
     "text": [
      "Why did the data scientist break up with the time series analyst?\n",
      "\n",
      "Because she said he was too predictable and only ever talked about future trends! He just couldn't see their relationship having a positive autocorrelation.\n",
      "\n"
     ]
    }
   ],
   "source": [
    "# The API for Gemini has a slightly different structure.\n",
    "# I've heard that on some PCs, this Gemini code causes the Kernel to crash.\n",
    "# If that happens to you, please skip this cell and use the next cell instead - an alternative approach.\n",
    "\n",
    "gemini = google.generativeai.GenerativeModel(\n",
    "    model_name='gemini-2.0-flash-exp',\n",
    "    system_instruction=system_message\n",
    ")\n",
    "response = gemini.generate_content(user_prompt)\n",
    "print(response.text)"
   ]
  },
  {
   "cell_type": "code",
   "execution_count": 15,
   "id": "d94d8656-967c-4738-809f-7308ff904eae",
   "metadata": {},
   "outputs": [
    {
     "ename": "SyntaxError",
     "evalue": "'yield' outside function (4125706138.py, line 15)",
     "output_type": "error",
     "traceback": [
      "\u001b[0;36m  Cell \u001b[0;32mIn[15], line 15\u001b[0;36m\u001b[0m\n\u001b[0;31m    yield chunk # Yield the chunk\u001b[0m\n\u001b[0m    ^\u001b[0m\n\u001b[0;31mSyntaxError\u001b[0m\u001b[0;31m:\u001b[0m 'yield' outside function\n"
     ]
    }
   ],
   "source": [
    "gemini = google.generativeai.GenerativeModel(\n",
    "    model_name='gemini-2.0-flash-exp',\n",
    "    system_instruction=system_message\n",
    ")\n",
    "response = gemini.generate_content(user_prompt)\n",
    "\n",
    "generated_text = \"\"\n",
    "while True:\n",
    " response = gemini.generate_content(prompt + generated_text, # Add previously generated text\n",
    "                                            max_output_tokens=100)  # Limit the output\n",
    " chunk = response.text\n",
    " if not chunk: # End of generation\n",
    "     break\n",
    " generated_text += chunk\n",
    " yield chunk # Yield the chunk\n",
    " if len(chunk) < chunk_size: # Check if the model has stopped\n",
    "    break\n",
    "print (generated_text) # Return the full text at the end"
   ]
  },
  {
   "cell_type": "code",
   "execution_count": 18,
   "id": "6968078d-92e4-41f4-a0a8-b44df0978d43",
   "metadata": {},
   "outputs": [],
   "source": [
    "##Create a Project to scrap NTT Data web site and provide the company Brocuhure"
   ]
  },
  {
   "cell_type": "code",
   "execution_count": 43,
   "id": "6d83a3b3-9a6c-43fd-8f42-32607a4275db",
   "metadata": {},
   "outputs": [],
   "source": [
    "# A class to represent a Webpage\n",
    "\n",
    "# Some websites need you to use proper headers when fetching them:\n",
    "headers = {\n",
    " \"User-Agent\": \"Mozilla/5.0 (Windows NT 10.0; Win64; x64) AppleWebKit/537.36 (KHTML, like Gecko) Chrome/117.0.0.0 Safari/537.36\"\n",
    "}\n",
    "\n",
    "class Website:\n",
    "    \"\"\"\n",
    "    A utility class to represent a Website that we have scraped, now with links\n",
    "    \"\"\"\n",
    "\n",
    "    def __init__(self, url):\n",
    "        self.url = url\n",
    "        response = requests.get(url, headers=headers)\n",
    "        self.body = response.content\n",
    "        soup = BeautifulSoup(self.body, 'html.parser')\n",
    "        self.title = soup.title.string if soup.title else \"No title found\"\n",
    "        if soup.body:\n",
    "            for irrelevant in soup.body([\"script\", \"style\", \"img\", \"input\"]):\n",
    "                irrelevant.decompose()\n",
    "            self.text = soup.body.get_text(separator=\"\\n\", strip=True)\n",
    "        else:\n",
    "            self.text = \"\"\n",
    "        links = [link.get('href') for link in soup.find_all('a')]\n",
    "        self.links = [link for link in links if link]\n",
    "\n",
    "    def get_contents(self):\n",
    "        return f\"Webpage Title:\\n{self.title}\\nWebpage Contents:\\n{self.text}\\n\\n\""
   ]
  },
  {
   "cell_type": "code",
   "execution_count": 44,
   "id": "6337192e-0de8-4c32-b3ca-7f7a8b35cd86",
   "metadata": {},
   "outputs": [
    {
     "data": {
      "text/plain": [
       "['/global/en',\n",
       " '/global/en/industries',\n",
       " '/global/en/industries/automotive',\n",
       " '/global/en/industries/energy-utilities',\n",
       " '/global/en/industries/financial-services',\n",
       " '/global/en/industries/healthcare',\n",
       " '/global/en/industries/higher-education-research',\n",
       " '/global/en/industries/insurance',\n",
       " '/global/en/industries/life-sciences-pharma',\n",
       " '/global/en/industries/manufacturing',\n",
       " '/global/en/industries/public-sector',\n",
       " '/global/en/industries/retail-cpg',\n",
       " '/global/en/industries/telecom-media-technology',\n",
       " '/global/en/industries/travel-transportation-logistics',\n",
       " '/global/en/services',\n",
       " '/global/en/services/application-services',\n",
       " '/global/en/services/business-process-services',\n",
       " '/global/en/services/cloud',\n",
       " '/global/en/services/business-consulting',\n",
       " '/global/en/services/cx-digital-products',\n",
       " '/global/en/services/cybersecurity',\n",
       " '/global/en/services/data-and-intelligence',\n",
       " '/global/en/services/digital-workplace',\n",
       " '/global/en/services/edge',\n",
       " '/global/en/services/global-data-centers',\n",
       " '/global/en/services/network-services',\n",
       " '/global/en/services/sustainability-services',\n",
       " '/global/en/services/technology-solutions-integration',\n",
       " '/global/en/insights/focus',\n",
       " '/global/en/insights/clients-cases',\n",
       " '/global/en/insights/event',\n",
       " '/global/en/insights/world-economic-forum',\n",
       " '/global/en/insights/technology',\n",
       " '/global/en/insights/generative-ai',\n",
       " '/global/en/services/adm',\n",
       " '/global/en/insights/generative-ai',\n",
       " '/global/en/about-us',\n",
       " '/global/en/about-us/profile',\n",
       " '/global/en/about-us/message',\n",
       " '/global/en/about-us/innovation',\n",
       " '/global/en/about-us/our-way',\n",
       " '/global/en/about-us/ntt-data-history',\n",
       " '/global/en/about-us/leaders',\n",
       " 'https://services.global.ntt/en-us/',\n",
       " '/global/en/about-us/partners',\n",
       " '/global/en/about-us/partners/microsoft',\n",
       " '/global/en/about-us/partners/sap',\n",
       " '/global/en/about-us/partners/salesforce',\n",
       " '/global/en/about-us/partners/aws',\n",
       " '/global/en/about-us/partners/cisco',\n",
       " '/global/en/about-us/sustainability',\n",
       " '/global/en/about-us/sustainability/dei',\n",
       " '/global/en/about-us/ntt-data-the-open',\n",
       " '/global/en/about-us/womensopen',\n",
       " 'https://us.nttdata.com/en/about-us/content/ntt-indycar-series',\n",
       " '/global/en/careers',\n",
       " '/global/en/careers/search-jobs',\n",
       " '/global/en/careers/why-ntt-data',\n",
       " '/global/en/careers/meet-ntt-data-people',\n",
       " '/global/en/careers/find-initiatives',\n",
       " '/global/en/investors',\n",
       " '/global/en/investors/news',\n",
       " '/global/en/investors/calendar',\n",
       " '/global/en/investors/management',\n",
       " '/global/en/investors/individual_investor',\n",
       " '/global/en/investors/library',\n",
       " '/global/en/investors/achievement',\n",
       " '/global/en/investors/share',\n",
       " '/global/en/news',\n",
       " '/global/en/contact-us',\n",
       " '#',\n",
       " '/global/en/contact-us',\n",
       " '/global/en/insights/event/2025/march/mobile-world-congress',\n",
       " '/global/en/insights/focus/2025/the-ai-responsibility-crisis-why-executive-leadership-must-act-now',\n",
       " '/global/en/insights/reports/ntt-data-named-a-leader-in-genai-services-by-isg',\n",
       " '/global/en/insights/generative-ai',\n",
       " 'https://services.global.ntt/en-us/insights/ntt-data-technology-foresight-2025',\n",
       " '/global/en/insights/focus/2025/gen-ai-transforming-potential-into-performance',\n",
       " '/global/en/insights/focus/2025/from-sustainability-to-scalability-and-the-central-role-of-erps',\n",
       " '/global/en/insights/focus/2025/open-gateway-network-service-monetization-through-standardized-apis',\n",
       " '/global/en/insights/focus/2025/fast-track-the-future-of-insurance-ntt-datas-journey-at-limra-annual-conference-2024',\n",
       " '/global/en/about-us',\n",
       " '/global/en/about-us/ntt-data-history',\n",
       " '/global/en/about-us/our-way',\n",
       " '/global/en/insights/technology',\n",
       " '/global/en/about-us/our-way',\n",
       " '/global/en/about-us/ntt-data-the-open',\n",
       " 'https://us.nttdata.com/en/about-us/content/ntt-indycar-series',\n",
       " '/global/en/insights/clients-cases',\n",
       " '/global/en/about-us/sustainability',\n",
       " '/global/en/careers',\n",
       " 'https://services.global.ntt/en-us/insights/ntt-data-technology-foresight-2025',\n",
       " '/global/en/investors/share/quotation',\n",
       " '/global/en/investors/achievement',\n",
       " '/global/en/investors/library/earnings',\n",
       " '/global/en/news',\n",
       " 'https://www.linkedin.com/company/ntt-data/',\n",
       " '/global/en/contact-us',\n",
       " '/global/en',\n",
       " '#',\n",
       " '/global/en/industries',\n",
       " '/global/en/services',\n",
       " '/global/en/insights',\n",
       " '/global/en/about-us',\n",
       " '/global/en/careers',\n",
       " '/global/en/investors',\n",
       " '/global/en/news',\n",
       " '/global/en/sitemap',\n",
       " '/global/en/contact-us',\n",
       " '/global/en/info/term-of-use',\n",
       " '/global/en/info/privacy-statement',\n",
       " '/global/en/info/privacy-statement-for-gdpr',\n",
       " '/global/en/info/about-the-site#accessibility',\n",
       " '/global/en/info/cookie-policy',\n",
       " '#',\n",
       " '/global/en/info/social-media-policy',\n",
       " '/global/en/info/copyright',\n",
       " 'https://twitter.com/nttdata',\n",
       " 'https://instagram.com/nttdata',\n",
       " 'https://www.linkedin.com/company/ntt-data/',\n",
       " 'https://www.youtube.com/NTTDATAGlobal',\n",
       " '#countryInitialModalTab-0',\n",
       " 'https://us.nttdata.com/en/',\n",
       " 'https://nttdata-solutions.com/us/',\n",
       " '#']"
      ]
     },
     "execution_count": 44,
     "metadata": {},
     "output_type": "execute_result"
    }
   ],
   "source": [
    "ed = Website(\"https://www.nttdata.com/global/en/\")\n",
    "ed.links"
   ]
  },
  {
   "cell_type": "code",
   "execution_count": 83,
   "id": "71ad54a1-b80c-44f7-9d82-d6e0cbd39540",
   "metadata": {},
   "outputs": [],
   "source": [
    "link_system_prompt = \"You are provided with a list of links found on a webpage. \\\n",
    "You are able to decide which of the links would be most relevant to include in a brochure about the company, \\\n",
    "such as links to an About page, or a Company page, or Careers/Jobs pages.\\n\"\n",
    "link_system_prompt += \"You should respond in JSON as in this example:\"\n",
    "link_system_prompt += \"\"\"\n",
    "{\n",
    "    \"links\": [\n",
    "        {\"type\": \"about page\", \"url\": \"https://full.url/goes/here/about\"},\n",
    "        {\"type\": \"careers page\": \"url\": \"https://another.full.url/careers\"}\n",
    "    ]\n",
    "}\n",
    "\"\"\"\n",
    "link_system_prompt += \"Return the response in JSON format with complete object\""
   ]
  },
  {
   "cell_type": "code",
   "execution_count": 84,
   "id": "2b258032-02e8-4b52-8c77-d308843cc293",
   "metadata": {},
   "outputs": [],
   "source": [
    "def user_prompt_for(website):\n",
    "    user_prompt = f\"You are looking at a website titled {website.title}\"\n",
    "    user_prompt += \"\\nThe contents of this website is as follows; \\\n",
    "please provide a short summary of this website in markdown. \\\n",
    "If it includes news or announcements, then summarize these too.\\n\\n\"\n",
    "    user_prompt += website.text\n",
    "    return user_prompt"
   ]
  },
  {
   "cell_type": "code",
   "execution_count": 85,
   "id": "a54b54f4-5da8-4311-a506-2ccde2e81a93",
   "metadata": {},
   "outputs": [],
   "source": [
    "def get_links_user_prompt(website):\n",
    "    user_prompt = f\"Here is the list of links on the website of {website.url} - \"\n",
    "    user_prompt += \"please decide which of these are relevant web links for a brochure about the company, respond with the full https URL in JSON format. \\\n",
    "Do not include Terms of Service, Privacy, email links.\\n\"\n",
    "    user_prompt += \"Links (some might be relative links):\\n\"\n",
    "    user_prompt += \"\\n\".join(website.links)\n",
    "    return user_prompt"
   ]
  },
  {
   "cell_type": "code",
   "execution_count": 96,
   "id": "04a35d8f-641e-4494-9618-afc2cc046fb1",
   "metadata": {},
   "outputs": [],
   "source": [
    "def get_links(url):\n",
    "    website = Website(url)\n",
    "    response = claude.messages.create(\n",
    "    model=\"claude-3-5-sonnet-latest\",\n",
    "    max_tokens=600,\n",
    "    temperature=0.7,\n",
    "    system=link_system_prompt,\n",
    "    messages=[\n",
    "        {\"role\": \"user\", \"content\": get_links_user_prompt(website)},\n",
    "    ],\n",
    ")\n",
    "    result = response.content[0].text\n",
    "    return json.loads(result)"
   ]
  },
  {
   "cell_type": "code",
   "execution_count": 104,
   "id": "730130d1-5f03-477e-9826-656defac1cf2",
   "metadata": {},
   "outputs": [],
   "source": [
    "##ntt.links"
   ]
  },
  {
   "cell_type": "code",
   "execution_count": 97,
   "id": "fd7682e8-9589-46ee-b1fc-48bb492729e1",
   "metadata": {},
   "outputs": [
    {
     "name": "stdout",
     "output_type": "stream",
     "text": [
      "{'links': [{'type': 'about page', 'url': 'https://www.nttdata.com/global/en/about-us'}, {'type': 'company profile', 'url': 'https://www.nttdata.com/global/en/about-us/profile'}, {'type': 'company history', 'url': 'https://www.nttdata.com/global/en/about-us/ntt-data-history'}, {'type': 'leadership', 'url': 'https://www.nttdata.com/global/en/about-us/leaders'}, {'type': 'careers page', 'url': 'https://www.nttdata.com/global/en/careers'}, {'type': 'sustainability', 'url': 'https://www.nttdata.com/global/en/about-us/sustainability'}, {'type': 'news', 'url': 'https://www.nttdata.com/global/en/news'}, {'type': 'contact', 'url': 'https://www.nttdata.com/global/en/contact-us'}, {'type': 'investors', 'url': 'https://www.nttdata.com/global/en/investors'}]}\n"
     ]
    }
   ],
   "source": [
    "print(get_links(\"https://www.nttdata.com/global/en/\"))"
   ]
  },
  {
   "cell_type": "code",
   "execution_count": 154,
   "id": "83cedf8f-cc86-4b7e-ac9d-360600eed389",
   "metadata": {},
   "outputs": [],
   "source": [
    "def get_all_details(url):\n",
    "    result = \"Landing page:\\n\"\n",
    "    result += Website(url).get_contents()\n",
    "    links = get_links(url)\n",
    "    ##print(\"Found links:\", links)\n",
    "    for link in links[\"links\"]:\n",
    "        result += f\"\\n\\n{link['type']}\\n\"\n",
    "        result += Website(link[\"url\"]).get_contents()\n",
    "    return result"
   ]
  },
  {
   "cell_type": "code",
   "execution_count": 103,
   "id": "ce5ef7d1-6851-4d0b-9509-8829c23d3d4f",
   "metadata": {},
   "outputs": [],
   "source": [
    "##print(get_all_details(\"https://www.nttdata.com/global/en/\"))"
   ]
  },
  {
   "cell_type": "code",
   "execution_count": 113,
   "id": "da39f3ca-d6ef-410c-b453-be22ff25c576",
   "metadata": {},
   "outputs": [],
   "source": [
    "system_brochure_prompt = \"You are an assistant that analyzes the contents of several relevant pages from a company website \\\n",
    "and creates a short brochure about the company for prospective customers, investors and recruits. Respond in markdown.\\\n",
    "Include details of company culture, customers and careers/jobs if you have the information.\"\n",
    "\n"
   ]
  },
  {
   "cell_type": "code",
   "execution_count": 101,
   "id": "2c73b534-ff98-4cdc-9fe9-ee8d509f86c2",
   "metadata": {},
   "outputs": [],
   "source": [
    "def get_brochure_user_prompt(company_name, url):\n",
    "    user_prompt = f\"You are looking at a company called: {company_name}\\n\"\n",
    "    user_prompt += f\"Here are the contents of its landing page and other relevant pages; use this information to build a short brochure of the company in markdown.\\n\"\n",
    "    user_prompt += get_all_details(url)\n",
    "    user_prompt = user_prompt[:5_000] # Truncate if more than 5,000 characters\n",
    "    return user_prompt"
   ]
  },
  {
   "cell_type": "code",
   "execution_count": 114,
   "id": "8c6b06ed-151b-4485-9775-d3278a83a52e",
   "metadata": {},
   "outputs": [
    {
     "name": "stdout",
     "output_type": "stream",
     "text": [
      "Found links: {'links': [{'type': 'about page', 'url': 'https://www.nttdata.com/global/en/about-us'}, {'type': 'company profile', 'url': 'https://www.nttdata.com/global/en/about-us/profile'}, {'type': 'company history', 'url': 'https://www.nttdata.com/global/en/about-us/ntt-data-history'}, {'type': 'leadership', 'url': 'https://www.nttdata.com/global/en/about-us/leaders'}, {'type': 'careers page', 'url': 'https://www.nttdata.com/global/en/careers'}, {'type': 'sustainability', 'url': 'https://www.nttdata.com/global/en/about-us/sustainability'}, {'type': 'news', 'url': 'https://www.nttdata.com/global/en/news'}, {'type': 'contact', 'url': 'https://www.nttdata.com/global/en/contact-us'}, {'type': 'investor relations', 'url': 'https://www.nttdata.com/global/en/investors'}]}\n"
     ]
    },
    {
     "data": {
      "text/plain": [
       "\"You are looking at a company called: NTTDATA\\nHere are the contents of its landing page and other relevant pages; use this information to build a short brochure of the company in markdown.\\nLanding page:\\nWebpage Title:\\nHome | NTT DATA Group\\nWebpage Contents:\\nIndustries\\nIndustries\\nAutomotive\\nEnergy & Utilities\\nFinancial Services\\nHealthcare\\nHigher Education & Research\\nInsurance\\nLife Sciences & Pharma\\nManufacturing\\nPublic Sector\\nRetail & CPG\\nTelecom, Media & Technology\\nTravel, Transportation & Logistics\\nServices\\nServices\\nApplication Services\\nBusiness Process Services\\nCloud\\nConsulting\\nCX and Digital Products\\nCybersecurity\\nData & Artificial Intelligence\\nDigital Workplace\\nEdge\\nGlobal Data Centers\\nNetwork Services\\nSustainability Services\\nTech Solutions & Integration\\nInsights\\nBy type\\nBlog: NTT DATA Focus\\nClients Cases\\nEvents\\nBy topic\\nThe World Economic Forum, Davos 2025\\nTechnology\\nGenerative AI\\nADM Technology Focus Areas\\nUnlock the Full Potential of Generative AI with NTT DATA\\nRead more\\nAbout Us\\nAbout Us\\nWho we are\\nNTT DATA Group Corporation Profile\\nMessage from CEO\\nInnovation at NTT DATA\\nOur Way\\nNTT DATA History\\nNTT DATA Group Corporation Leaders\\nAbout NTT DATA, Inc.\\nOur partners\\nView all partners\\nMicrosoft\\nSAP\\nSalesforce\\nAWS\\nCisco\\nOur commitments\\nSustainability\\nDiversity, Equity and Inclusion\\nOur sponsorship\\nThe Open\\nAIG Women’s Open\\nNTT INDYCAR SERIES\\nCareers\\nCareers\\nSearch Jobs\\nWhy NTT DATA\\nMeet NTT DATA People\\nFind People Initiatives\\nInvestors\\nInvestors\\nIR News\\nIR Calendar\\nManagement\\nIndividual Investor\\nLibrary\\nFinancial Charts\\nStock Information\\nNews\\nContact Us\\nGlobal - English\\nLatest NTT DATA\\nJoin NTT DATA at MWC Barcelona 2025\\nRead more\\nAI has hit fever pitch\\nRead more\\nNTT DATA named a Leader in global GenAI services\\nRead more\\nPrevious Slide\\nNext slide\\nStop and resume slide display\\nSpotlight\\nService\\nGenerative AI\\nRead the service\\nNTT DATA Technology Foresight 2025\\nRead more\\nArticle\\nGen AI: Transforming Potential into Performance\\nRead the article\\nArticle\\nFrom Sustainability to Scalability And The Central Role of ERPs\\nRead the article\\nArticle\\nOpen Gateway: network service monetization through standardized APIs\\nRead the article\\nArticle\\nFast-track the Future of Insurance: NTT DATA's Journey at LIMRA Annual Conference 2024\\nRead the article\\nWe're ONE NTT DATA\\nFrom strategic consulting to leading-edge technologies, we enable experiences that transform organizations, disrupt industries, and shape a better society for all.\\nLearn more About Us\\nHistory\\nRead more\\nOur Way\\nRead more\\nTechnologies\\nRead more\\nMission statement\\nLearn what core principles and values the NTT DATA Group believes in and shares with its employees across the globe.\\nRead more\\nDiscover our initiatives below\\nMajor Championships\\nRead more\\nNTT INDYCAR SERIES\\nRead more\\nClients Cases\\nRead more\\nSustainability\\nRead more\\nCareers\\nRead more\\nForesight\\nRead more\\nInvestors\\nStock Quotes\\nFinancial charts\\nRead more\\nFinancial Reports\\nRead more\\nMedia\\nNews\\nRead more\\nLinkedIn\\nRead more\\nSelect a location to explore services and solutions relevant to you.\\nSelect a country\\nConnect with us\\nContact Us\\nGlobal\\nSelect a Country\\nIndustries\\nServices\\nInsights\\nAbout Us\\nCareers\\nInvestors\\nNews\\nSitemap\\nContact Us\\nTerm Of Use\\nPrivacy Statement\\nPrivacy Statement for GDPR\\nAccessibility\\nCookie Policy\\nCookie Preferences\\nSocial Media Policy\\nCopyright\\nCopyright © NTT DATA Group Corporation\\nTOP\\nLearn more about NTT DATA in USA\\nEnglish\\nNTT DATA\\nNTT DATA brings a consultative approach and deep industry expertise to deliver practical and scalable IT solutions that help organizations accelerate their digital journeys.\\nVisit our website\\nNTT DATA Business Solutions\\nNTT DATA Business Solutions has specialized in making SAP centric industry solutions work for midmarket and international companies in lower large enterprise - and for their people: We transform SAP solutions into value.\\nVisit our website\\nNot in the Region?\\nView our other global sites\\nThis product includes GeoLite2 data created by MaxMind, available from https://www.maxmind.com.\\nThis product includes GeoLite2 data created by MaxMind, available from https://www.maxmind.com.\\n\\n\\n\\nabout page\\nWebpage Title:\\nAbout Us | NTT DATA Group\\nWebpage Contents:\\nIndustries\\nIndustries\\nAutomotive\\nEnergy & Utilities\\nFinancial Services\\nHealthcare\\nHigher Education & Research\\nInsurance\\nLife Sciences & Pharma\\nManufacturing\\nPublic Sector\\nRetail & CPG\\nTelecom, Media & Technology\\nTravel, Transportation & Logistics\\nServices\\nServices\\nApplication Services\\nBusiness Process Services\\nCloud\\nConsulting\\nCX and Digital Products\\nCybersecurity\\nData & Artificial Intelligence\\nDigital Workplace\\nEdge\\nGlobal Data Centers\\nNetwork Services\\nSustainability Services\\nTech Solutions & Integration\\nInsights\\nBy type\\nBlog: NTT DATA Focus\\nClients Cases\\nEvents\\nBy topic\\nThe World Economic Forum, Davos 2025\\nTechnology\\nGenerative AI\\nADM Technology Focus Areas\\nUnlock the Full Potential of Generative AI with NTT DATA\\nRead more\\nAbout Us\\nAbout Us\\nWho we are\\nNTT DATA Group Corporation Profile\\nMessage from\""
      ]
     },
     "execution_count": 114,
     "metadata": {},
     "output_type": "execute_result"
    }
   ],
   "source": [
    "get_brochure_user_prompt(\"NTTDATA\", \"https://www.nttdata.com/global/en/\")"
   ]
  },
  {
   "cell_type": "code",
   "execution_count": 115,
   "id": "d9e86db1-a50f-400c-ab3a-025b49aae725",
   "metadata": {},
   "outputs": [],
   "source": [
    "def create_brochure(company_name, url):\n",
    "    response = claude.messages.create(\n",
    "    model=\"claude-3-5-sonnet-latest\",\n",
    "    max_tokens=600,\n",
    "    temperature=0.7,\n",
    "    system=system_brochure_prompt,\n",
    "    messages=[\n",
    "        {\"role\": \"user\", \"content\": get_brochure_user_prompt(company_name, url)},\n",
    "    ],\n",
    ")\n",
    "    result = response.content[0].text\n",
    "    display(Markdown(result))"
   ]
  },
  {
   "cell_type": "code",
   "execution_count": 116,
   "id": "a0e9df37-32ca-4bf4-85bd-c47bf832cf28",
   "metadata": {},
   "outputs": [
    {
     "name": "stdout",
     "output_type": "stream",
     "text": [
      "Found links: {'links': [{'type': 'about page', 'url': 'https://www.nttdata.com/global/en/about-us'}, {'type': 'company profile', 'url': 'https://www.nttdata.com/global/en/about-us/profile'}, {'type': 'company history', 'url': 'https://www.nttdata.com/global/en/about-us/ntt-data-history'}, {'type': 'leadership', 'url': 'https://www.nttdata.com/global/en/about-us/leaders'}, {'type': 'sustainability', 'url': 'https://www.nttdata.com/global/en/about-us/sustainability'}, {'type': 'careers page', 'url': 'https://www.nttdata.com/global/en/careers'}, {'type': 'news', 'url': 'https://www.nttdata.com/global/en/news'}, {'type': 'contact page', 'url': 'https://www.nttdata.com/global/en/contact-us'}]}\n"
     ]
    },
    {
     "data": {
      "text/markdown": [
       "# NTT DATA Group - Corporate Brochure\n",
       "\n",
       "## Who We Are\n",
       "NTT DATA is a global technology and business solutions provider that specializes in digital transformation and IT services. As part of the NTT Group, we combine deep industry expertise with cutting-edge technology to deliver innovative solutions to clients worldwide.\n",
       "\n",
       "## Our Services & Solutions\n",
       "### Core Offerings:\n",
       "- Application Services\n",
       "- Cloud Solutions\n",
       "- Consulting Services\n",
       "- Cybersecurity\n",
       "- Data & Artificial Intelligence\n",
       "- Digital Workplace Solutions\n",
       "- Sustainability Services\n",
       "\n",
       "### Industry Focus:\n",
       "We serve multiple sectors including:\n",
       "- Financial Services\n",
       "- Healthcare\n",
       "- Manufacturing\n",
       "- Public Sector\n",
       "- Retail\n",
       "- Automotive\n",
       "- Insurance\n",
       "- Telecom & Technology\n",
       "\n",
       "## Innovation & Technology\n",
       "NTT DATA is at the forefront of technological innovation, with particular expertise in:\n",
       "- Generative AI\n",
       "- Cloud Computing\n",
       "- Digital Transformation\n",
       "- Sustainable Technology Solutions\n",
       "\n",
       "## Global Presence\n",
       "With operations across multiple continents, NTT DATA provides localized expertise with global reach, serving clients in various markets and industries worldwide.\n",
       "\n",
       "## Corporate Values\n",
       "Our approach is guided by:\n",
       "- Client-First Mindset\n",
       "- Innovation Focus\n",
       "- Sustainability Commitment\n",
       "- Digital Transformation Excellence\n",
       "\n",
       "## Strategic Partnerships\n",
       "We maintain strong partnerships with industry leaders including:\n",
       "- Microsoft\n",
       "- SAP\n",
       "- Salesforce\n",
       "- AWS\n",
       "- Cisco\n",
       "\n",
       "## Corporate Citizenship\n",
       "We are committed to:\n",
       "- Sustainability Initiatives\n",
       "- Diversity, Equity & Inclusion\n",
       "- Social Responsibility\n",
       "- Environmental Stewardship\n",
       "\n",
       "## Career Opportunities\n",
       "NTT DATA offers:\n",
       "- Global Career Paths\n",
       "- Professional Development\n",
       "- Innovation-Focused Environment\n",
       "- Diverse and Inclusive Workplace\n",
       "\n",
       "## Notable Recognitions\n",
       "- Leader in Global Generative AI Services\n",
       "- Strong presence at major technology events including MWC Barcelona\n",
       "- Sponsor of major sporting events including The Open and NTT INDYCAR SERIES\n",
       "\n",
       "---\n",
       "*For more information about career opportunities, partnerships, or services, visit our website or contact our regional offices.*"
      ],
      "text/plain": [
       "<IPython.core.display.Markdown object>"
      ]
     },
     "metadata": {},
     "output_type": "display_data"
    }
   ],
   "source": [
    "create_brochure(\"NTTDATA\", \"https://www.nttdata.com/global/en/\")"
   ]
  },
  {
   "cell_type": "code",
   "execution_count": 174,
   "id": "ff739e2b-b113-430d-8198-2c2e64734d33",
   "metadata": {},
   "outputs": [],
   "source": [
    "def stream_brochure(company_name, url):\n",
    "    result = claude.messages.create(\n",
    "    model=\"claude-3-5-sonnet-latest\",\n",
    "    max_tokens=1000,\n",
    "    temperature=0.7,\n",
    "    stream=True,  # Enable streaming\n",
    "    system=system_brochure_prompt,\n",
    "    messages=[\n",
    "        {\"role\": \"user\", \"content\": get_brochure_user_prompt(company_name, url)},\n",
    "    ],\n",
    ")\n",
    "    response = \"\"\n",
    "    display_handle = display(Markdown(\"\"), display_id=True)\n",
    "    for chunk in result:\n",
    "        if chunk.type == 'content_block_delta':\n",
    "            response += chunk.delta.text or ''\n",
    "            response = response.replace(\"```\",\"\").replace(\"markdown\", \"\")\n",
    "            update_display(Markdown(response), display_id=display_handle.display_id)\n",
    "\n",
    "       "
   ]
  },
  {
   "cell_type": "code",
   "execution_count": 175,
   "id": "d7782de0-40c0-4517-8611-ee429cbbbcee",
   "metadata": {},
   "outputs": [
    {
     "data": {
      "text/markdown": [
       "# NTT DATA - Transforming Business Through Technology\n",
       "![NTT DATA Logo]\n",
       "\n",
       "## Who We Are\n",
       "NTT DATA is a global technology and business solutions provider that helps organizations accelerate their digital journeys. As part of the NTT Group, we combine deep industry expertise with cutting-edge technology to deliver practical and scalable IT solutions that transform businesses and society.\n",
       "\n",
       "## Our Services & Solutions\n",
       "### Core Offerings:\n",
       "- Application Services\n",
       "- Cloud Solutions\n",
       "- Consulting Services\n",
       "- Cybersecurity\n",
       "- Data & Artificial Intelligence\n",
       "- Digital Workplace Solutions\n",
       "- Network Services\n",
       "- Sustainability Services\n",
       "\n",
       "### Industry Expertise:\n",
       "We serve multiple sectors including:\n",
       "- Financial Services\n",
       "- Healthcare\n",
       "- Manufacturing\n",
       "- Public Sector\n",
       "- Retail\n",
       "- Automotive\n",
       "- Insurance\n",
       "- Telecom & Technology\n",
       "\n",
       "## Innovation Focus\n",
       "NTT DATA is at the forefront of technological innovation, with particular emphasis on:\n",
       "- Generative AI\n",
       "- Cloud Computing\n",
       "- Digital Transformation\n",
       "- Sustainability Solutions\n",
       "- Advanced Data Analytics\n",
       "\n",
       "## Global Presence\n",
       "With operations worldwide, NTT DATA delivers consistent, high-quality services while maintaining local market understanding and client relationships.\n",
       "\n",
       "## Partnerships\n",
       "We maintain strategic partnerships with industry leaders including:\n",
       "- Microsoft\n",
       "- SAP\n",
       "- Salesforce\n",
       "- AWS\n",
       "- Cisco\n",
       "\n",
       "## Corporate Values\n",
       "Our mission is driven by core principles that emphasize:\n",
       "- Innovation\n",
       "- Client Success\n",
       "- Sustainable Solutions\n",
       "- Global Collaboration\n",
       "- Social Responsibility\n",
       "\n",
       "## Notable Engagements\n",
       "NTT DATA maintains high-profile sponsorships including:\n",
       "- The Open Championship\n",
       "- AIG Women's Open\n",
       "- NTT INDYCAR SERIES\n",
       "\n",
       "## Career Opportunities\n",
       "We offer exciting career paths for professionals interested in:\n",
       "- Technology Consulting\n",
       "- Software Development\n",
       "- Project Management\n",
       "- Digital Innovation\n",
       "- Business Analysis\n",
       "\n",
       "---\n",
       "*For more information about careers, partnerships, or services, visit www.nttdata.com*"
      ],
      "text/plain": [
       "<IPython.core.display.Markdown object>"
      ]
     },
     "metadata": {},
     "output_type": "display_data"
    }
   ],
   "source": [
    "stream_brochure(\"NTTDATA\", \"https://www.nttdata.com/global/en/\")"
   ]
  }
 ],
 "metadata": {
  "kernelspec": {
   "display_name": "Python 3 (ipykernel)",
   "language": "python",
   "name": "python3"
  },
  "language_info": {
   "codemirror_mode": {
    "name": "ipython",
    "version": 3
   },
   "file_extension": ".py",
   "mimetype": "text/x-python",
   "name": "python",
   "nbconvert_exporter": "python",
   "pygments_lexer": "ipython3",
   "version": "3.11.11"
  }
 },
 "nbformat": 4,
 "nbformat_minor": 5
}
